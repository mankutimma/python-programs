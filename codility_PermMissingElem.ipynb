{
 "cells": [
  {
   "cell_type": "markdown",
   "metadata": {},
   "source": [
    "An array A consisting of N different integers is given. The array contains integers in the range [1..(N + 1)], which means that exactly one element is missing.\n",
    "\n",
    "Your goal is to find that missing element.\n",
    "\n",
    "Write a function:\n",
    "\n",
    "def solution(A)\n",
    "\n",
    "that, given an array A, returns the value of the missing element.\n",
    "\n",
    "For example, given array A such that:\n",
    "\n",
    "  A[0] = 2\n",
    "  A[1] = 3\n",
    "  A[2] = 1\n",
    "  A[3] = 5\n",
    "the function should return 4, as it is the missing element.\n",
    "\n",
    "Write an efficient algorithm for the following assumptions:\n",
    "\n",
    "N is an integer within the range [0..100,000];\n",
    "the elements of A are all distinct;\n",
    "each element of array A is an integer within the range [1..(N + 1)]."
   ]
  },
  {
   "cell_type": "code",
   "execution_count": 5,
   "metadata": {
    "collapsed": true
   },
   "outputs": [],
   "source": [
    "#Best solution with detected time complexity O(N) or O(N*log(N))\n",
    "#Correctness = 100%, Performance = 100%\n",
    "\n",
    "def solution(A):\n",
    "    length_A = len(A)\n",
    "    #ex : if A = [], then N is 0. A should contain integers in the range [1,1]. So, the missing element is 1\n",
    "    if(length_A == 0):\n",
    "        return 1\n",
    "    else:\n",
    "        n = length_A + 1\n",
    "        arithmetic_sum = int(n*(n + 1)/2)\n",
    "        Sum = sum(A) #O(N)\n",
    "        return arithmetic_sum - Sum\n",
    "    \n",
    "#Test inputs\n",
    "#[2]\n",
    "#[1]\n",
    "#[1,2,3,4,5,6,7,8,10]\n",
    "#[1,2,3,4,5,6,7,8,9]\n",
    "#[1,2]\n",
    "#[1,3]\n",
    "#[2,3]\n",
    "#[]"
   ]
  },
  {
   "cell_type": "code",
   "execution_count": 6,
   "metadata": {
    "collapsed": true
   },
   "outputs": [],
   "source": [
    "#Bad solution with detected time complexity O(N**2)\n",
    "#Correctness = 100%, Performance = 0%\n",
    "\n",
    "def solution(A):\n",
    "    length_A = len(A)\n",
    "    if(length_A == 0):\n",
    "        return 1\n",
    "    else:\n",
    "        for i in range(1, length_A + 2): #O(N)\n",
    "            #This is an in-built for loop\n",
    "            if i not in A:#O(N)\n",
    "                return i"
   ]
  }
 ],
 "metadata": {
  "kernelspec": {
   "display_name": "Python 3",
   "language": "python",
   "name": "python3"
  },
  "language_info": {
   "codemirror_mode": {
    "name": "ipython",
    "version": 3
   },
   "file_extension": ".py",
   "mimetype": "text/x-python",
   "name": "python",
   "nbconvert_exporter": "python",
   "pygments_lexer": "ipython3",
   "version": "3.6.3"
  }
 },
 "nbformat": 4,
 "nbformat_minor": 2
}
