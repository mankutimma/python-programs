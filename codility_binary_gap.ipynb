{
 "cells": [
  {
   "cell_type": "markdown",
   "metadata": {},
   "source": [
    "A binary gap within a positive integer N is any maximal sequence of consecutive zeros that is surrounded by ones at both ends in the binary representation of N.\n",
    "\n",
    "For example, number 9 has binary representation 1001 and contains a binary gap of length 2. The number 529 has binary representation 1000010001 and contains two binary gaps: one of length 4 and one of length 3. The number 20 has binary representation 10100 and contains one binary gap of length 1. The number 15 has binary representation 1111 and has no binary gaps. The number 32 has binary representation 100000 and has no binary gaps.\n",
    "\n",
    "Write a function:\n",
    "\n",
    "def solution(N)\n",
    "\n",
    "that, given a positive integer N, returns the length of its longest binary gap. The function should return 0 if N doesn't contain a binary gap.\n",
    "\n",
    "For example, given N = 1041 the function should return 5, because N has binary representation 10000010001 and so its longest binary gap is of length 5. Given N = 32 the function should return 0, because N has binary representation '100000' and thus no binary gaps.\n",
    "\n",
    "Write an efficient algorithm for the following assumptions:\n",
    "\n",
    "N is an integer within the range [1..2,147,483,647]."
   ]
  },
  {
   "cell_type": "code",
   "execution_count": 3,
   "metadata": {
    "collapsed": true
   },
   "outputs": [],
   "source": [
    "# you can write to stdout for debugging purposes, e.g.\n",
    "# print(\"this is a debug message\")\n",
    "\n",
    "def solution(N):\n",
    "    # write your code in Python 3.6\n",
    "    bin_num = bin(N)[2:]\n",
    "    count = 0\n",
    "    length_list = []\n",
    "    for i in bin_num:\n",
    "        if i == '0':\n",
    "            count += 1\n",
    "        else:\n",
    "            if count != 0:\n",
    "                length_list.append(count)\n",
    "                count = 0\n",
    "    if len(length_list) == 0:\n",
    "        return 0\n",
    "    else:\n",
    "        return max(length_list)\n",
    "                \n"
   ]
  },
  {
   "cell_type": "code",
   "execution_count": 4,
   "metadata": {
    "collapsed": true
   },
   "outputs": [],
   "source": [
    "#Alternate Solution\n",
    "\n",
    "import re\n",
    "\n",
    "def solution(N):\n",
    "    # write your code in Python 3.6\n",
    "    binary_N = bin(N)\n",
    "    #pattern in the re has the assumption that binary will never start with\n",
    "    #0 unless it's 0\n",
    "    matches = re.findall(r'0+1', binary_N)\n",
    "    if matches:\n",
    "        lengths = [len(match) for match in matches]\n",
    "        return max(lengths) - 1\n",
    "    else:\n",
    "        return 0"
   ]
  }
 ],
 "metadata": {
  "kernelspec": {
   "display_name": "Python 3",
   "language": "python",
   "name": "python3"
  },
  "language_info": {
   "codemirror_mode": {
    "name": "ipython",
    "version": 3
   },
   "file_extension": ".py",
   "mimetype": "text/x-python",
   "name": "python",
   "nbconvert_exporter": "python",
   "pygments_lexer": "ipython3",
   "version": "3.6.3"
  }
 },
 "nbformat": 4,
 "nbformat_minor": 2
}
