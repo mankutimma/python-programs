{
 "cells": [
  {
   "cell_type": "markdown",
   "metadata": {},
   "source": [
    "**Problem Statement** : Given a list of numbers, find out the number of times each number occurs in the list."
   ]
  },
  {
   "cell_type": "code",
   "execution_count": 1,
   "metadata": {
    "collapsed": true
   },
   "outputs": [],
   "source": [
    "input_list = [1,1,1,3,3,3,3,4,6,7,4,9,1,4,0,3]"
   ]
  },
  {
   "cell_type": "code",
   "execution_count": 2,
   "metadata": {},
   "outputs": [
    {
     "name": "stdout",
     "output_type": "stream",
     "text": [
      "Dictionary format is {Number in list: Count}\n",
      "{1: 4, 3: 5, 4: 3, 6: 1, 7: 1, 9: 1, 0: 1}\n"
     ]
    }
   ],
   "source": [
    "unique_list = []\n",
    "my_dict = {}\n",
    "\n",
    "count = 0\n",
    "for i in input_list:\n",
    "    if i not in unique_list:\n",
    "        unique_list.append(i);\n",
    "        for j in input_list:\n",
    "            if i == j:\n",
    "                count += 1\n",
    "        my_dict[i] = count\n",
    "        count = 0\n",
    "        \n",
    "print(\"Dictionary format is {Number in list: Count}\")        \n",
    "print(my_dict)"
   ]
  },
  {
   "cell_type": "markdown",
   "metadata": {},
   "source": [
    "**The above code is of computation time complexity O(n\\*\\*2). We can decrease this to O(n) by eliminating one of the for loops. The below code block does the job and hence is more optimized than the above.**"
   ]
  },
  {
   "cell_type": "code",
   "execution_count": 3,
   "metadata": {},
   "outputs": [
    {
     "name": "stdout",
     "output_type": "stream",
     "text": [
      "Dictionary format is {Number in list: Count}\n",
      "{1: 4, 3: 5, 4: 3, 6: 1, 7: 1, 9: 1, 0: 1}\n"
     ]
    }
   ],
   "source": [
    "my_dict = {}\n",
    "#unique_list not needed\n",
    "\n",
    "for i in input_list:\n",
    "    if i in my_dict.keys():\n",
    "        my_dict[i] += 1\n",
    "    else:\n",
    "        my_dict[i] = 1\n",
    "\n",
    "print(\"Dictionary format is {Number in list: Count}\")        \n",
    "print(my_dict)"
   ]
  }
 ],
 "metadata": {
  "kernelspec": {
   "display_name": "Python 3",
   "language": "python",
   "name": "python3"
  },
  "language_info": {
   "codemirror_mode": {
    "name": "ipython",
    "version": 3
   },
   "file_extension": ".py",
   "mimetype": "text/x-python",
   "name": "python",
   "nbconvert_exporter": "python",
   "pygments_lexer": "ipython3",
   "version": "3.6.3"
  }
 },
 "nbformat": 4,
 "nbformat_minor": 2
}
