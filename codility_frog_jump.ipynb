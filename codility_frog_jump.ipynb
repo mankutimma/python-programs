{
 "cells": [
  {
   "cell_type": "markdown",
   "metadata": {},
   "source": [
    "A small frog wants to get to the other side of the road. The frog is currently located at position X and wants to get to a position greater than or equal to Y. The small frog always jumps a fixed distance, D.\n",
    "\n",
    "Count the minimal number of jumps that the small frog must perform to reach its target.\n",
    "\n",
    "Write a function:\n",
    "\n",
    "def solution(X, Y, D)\n",
    "\n",
    "that, given three integers X, Y and D, returns the minimal number of jumps from position X to a position equal to or greater than Y.\n",
    "\n",
    "For example, given:\n",
    "\n",
    "  X = 10\n",
    "  Y = 85\n",
    "  D = 30\n",
    "the function should return 3, because the frog will be positioned as follows:\n",
    "\n",
    "after the first jump, at position 10 + 30 = 40\n",
    "after the second jump, at position 10 + 30 + 30 = 70\n",
    "after the third jump, at position 10 + 30 + 30 + 30 = 100\n",
    "Write an efficient algorithm for the following assumptions:\n",
    "\n",
    "X, Y and D are integers within the range [1..1,000,000,000];\n",
    "X ≤ Y."
   ]
  },
  {
   "cell_type": "code",
   "execution_count": 1,
   "metadata": {
    "collapsed": true
   },
   "outputs": [],
   "source": [
    "#This approach is too slow\n",
    "def solution(X, Y, D):\n",
    "    # write your code in Python 3.6\n",
    "    \n",
    "    jumps = 0\n",
    "    while(X<Y):\n",
    "        X = X + D\n",
    "        jumps += 1\n",
    "    return jumps"
   ]
  },
  {
   "cell_type": "code",
   "execution_count": 2,
   "metadata": {
    "collapsed": true
   },
   "outputs": [],
   "source": [
    "#Faster approach\n",
    "\n",
    "import math\n",
    "\n",
    "def solution(X, Y, D):\n",
    "    \n",
    "    diff = Y - X\n",
    "    i = diff / D\n",
    "    return(math.ceil(i))"
   ]
  },
  {
   "cell_type": "markdown",
   "metadata": {},
   "source": [
    "Detected time complexity:\n",
    "O(1)"
   ]
  }
 ],
 "metadata": {
  "kernelspec": {
   "display_name": "Python 3",
   "language": "python",
   "name": "python3"
  },
  "language_info": {
   "codemirror_mode": {
    "name": "ipython",
    "version": 3
   },
   "file_extension": ".py",
   "mimetype": "text/x-python",
   "name": "python",
   "nbconvert_exporter": "python",
   "pygments_lexer": "ipython3",
   "version": "3.6.3"
  }
 },
 "nbformat": 4,
 "nbformat_minor": 2
}
